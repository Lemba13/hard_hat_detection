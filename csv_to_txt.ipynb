{
 "metadata": {
  "language_info": {
   "codemirror_mode": {
    "name": "ipython",
    "version": 3
   },
   "file_extension": ".py",
   "mimetype": "text/x-python",
   "name": "python",
   "nbconvert_exporter": "python",
   "pygments_lexer": "ipython3",
   "version": "3.9.6"
  },
  "orig_nbformat": 4,
  "kernelspec": {
   "name": "python3",
   "display_name": "Python 3.9.6 64-bit ('pytorch': conda)"
  },
  "interpreter": {
   "hash": "58cf3629d02cb2c1ea818e91db81397e48f0a5884d509c9d5890fe852e127513"
  }
 },
 "nbformat": 4,
 "nbformat_minor": 2,
 "cells": [
  {
   "cell_type": "code",
   "execution_count": 1,
   "metadata": {},
   "outputs": [],
   "source": [
    "from pathlib import Path\n",
    "import xml.etree.ElementTree as ET\n",
    "import numpy as np\n",
    "import os\n",
    "import os.path\n",
    "import cv2\n",
    "import matplotlib.pyplot as plt\n",
    "%matplotlib inline\n",
    "\n",
    "import uuid\n",
    "import pandas as pd"
   ]
  },
  {
   "cell_type": "code",
   "execution_count": 24,
   "metadata": {},
   "outputs": [],
   "source": [
    "def read_content(xml_file: str):\n",
    "\n",
    "    tree = ET.parse(xml_file)\n",
    "    root = tree.getroot()\n",
    "\n",
    "    list_with_all_boxes = []\n",
    "\n",
    "    for boxes in root.iter('object'):\n",
    "\n",
    "        filename = root.find('filename').text\n",
    "\n",
    "        ymin, xmin, ymax, xmax = None, None, None, None\n",
    "\n",
    "        ymin = int(boxes.find(\"bndbox/ymin\").text)/416\n",
    "        xmin = int(boxes.find(\"bndbox/xmin\").text)/416\n",
    "        ymax = int(boxes.find(\"bndbox/ymax\").text)/416\n",
    "        xmax = int(boxes.find(\"bndbox/xmax\").text)/416\n",
    "        helmet = (boxes.find('name').text)\n",
    "\n",
    "        width=(xmax-xmin)\n",
    "        height=(ymax-ymin)\n",
    "        x=xmin+width/2\n",
    "        y=ymin+height/2\n",
    "\n",
    "        if helmet=='helmet':\n",
    "            flag=1\n",
    "        else:\n",
    "            flag=0\n",
    "\n",
    "        list_with_single_boxes = [flag,x,y,width,height]\n",
    "        list_with_all_boxes.append(list_with_single_boxes)\n",
    "\n",
    "    return filename, list_with_all_boxes"
   ]
  },
  {
   "cell_type": "code",
   "execution_count": 29,
   "metadata": {},
   "outputs": [],
   "source": [
    "df = pd.DataFrame(columns = ['image', 'text'])\n",
    "for i in range(len(os.listdir('annotations'))):\n",
    "    path=os.path.join('annotations/',os.listdir('annotations')[i])\n",
    "    name, boxes = read_content(path)\n",
    "    t=name.split('.')[0]\n",
    "    filepath='yolov3/labels/'+t+\".txt\"\n",
    "    np.savetxt(filepath,boxes,fmt='%i %.6f %.6f %.6f %.6f')\n",
    "    df=df.append({'image':name,'text':filepath.split('/')[2]},ignore_index=True)"
   ]
  },
  {
   "cell_type": "code",
   "execution_count": null,
   "metadata": {},
   "outputs": [],
   "source": []
  }
 ]
}